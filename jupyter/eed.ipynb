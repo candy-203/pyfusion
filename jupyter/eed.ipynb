{
 "cells": [
  {
   "cell_type": "code",
   "execution_count": null,
   "id": "c1ed2ffc",
   "metadata": {},
   "outputs": [],
   "source": [
    "import matplotlib.pyplot as plt\n",
    "import numpy as np\n",
    "\n",
    "from pyfusion.algs import eed\n",
    "from pyfusion.data import load\n",
    "from pyfusion.structs import math\n",
    "from pyfusion.structs.validation_utils import FloatArr\n",
    "from pyfusion.utils import projection, operations"
   ]
  },
  {
   "cell_type": "code",
   "execution_count": null,
   "id": "bd5bf921",
   "metadata": {},
   "outputs": [],
   "source": [
    "#type: ignore\n",
    "def plot(data, title=None):\n",
    "    \"\"\"\n",
    "    Plot the data with optional title and axis labels.\n",
    "    \"\"\"\n",
    "    plt.figure(figsize=(10, 8))\n",
    "    plt.imshow(data, cmap=\"gray\")\n",
    "    if title:\n",
    "        plt.title(title)\n",
    "    plt.axis(\"off\")\n",
    "    plt.colorbar()\n",
    "    plt.show()"
   ]
  },
  {
   "cell_type": "code",
   "execution_count": null,
   "id": "b4d06ae1",
   "metadata": {},
   "outputs": [],
   "source": [
    "SLICE = 70"
   ]
  },
  {
   "cell_type": "code",
   "execution_count": null,
   "id": "fffa4076",
   "metadata": {},
   "outputs": [],
   "source": [
    "MAX_ITER = 10\n",
    "STEP_SIZE = 0.2\n",
    "SIGMA = 2.0"
   ]
  },
  {
   "cell_type": "code",
   "execution_count": null,
   "id": "f727f185",
   "metadata": {},
   "outputs": [],
   "source": [
    "FSL = load.load_fsl(\"../data/example_mri\", SLICE)"
   ]
  },
  {
   "cell_type": "code",
   "execution_count": null,
   "id": "9f0f9f98",
   "metadata": {},
   "outputs": [],
   "source": [
    "# type: ignore\n",
    "# Plotting the FA map\n",
    "plot(FSL.FA, title=\"FA map\")"
   ]
  },
  {
   "cell_type": "code",
   "execution_count": null,
   "id": "b33a126c",
   "metadata": {},
   "outputs": [],
   "source": [
    "# add random noise to the FA map\n",
    "FA_noisy = FSL.FA + 0.3 * FSL.FA.std() * np.random.randn(*FSL.FA.shape)"
   ]
  },
  {
   "cell_type": "code",
   "execution_count": null,
   "id": "40d15d53",
   "metadata": {},
   "outputs": [],
   "source": [
    "# type: ignore\n",
    "# Plotting the noisy FA map\n",
    "plot(FA_noisy, title=\"Noisy FA map\")"
   ]
  },
  {
   "cell_type": "code",
   "execution_count": null,
   "id": "838d37c2",
   "metadata": {},
   "outputs": [],
   "source": [
    "def heat_conduction(x: FloatArr) -> FloatArr:\n",
    "    \"\"\"\n",
    "    Heat conduction function for the diffusion tensor.\n",
    "    \"\"\"\n",
    "    # copy the input array to avoid modifying the original\n",
    "    x = x.copy()\n",
    "\n",
    "    C_4 = 3.31488\n",
    "\n",
    "    # save the indices of all values <= 0\n",
    "    neg_indices = x <= 0\n",
    "    pos_indices = ~neg_indices\n",
    "\n",
    "    # set the values at those indices to 1\n",
    "    x[neg_indices] = 1\n",
    "\n",
    "    # set the values of all other indices to 1 - exp(-C_4 / x[pos_indices])\n",
    "    x[pos_indices] = 1 - np.exp(-C_4 / x[pos_indices])\n",
    "\n",
    "    return x"
   ]
  },
  {
   "cell_type": "code",
   "execution_count": null,
   "id": "8ef2d64f",
   "metadata": {},
   "outputs": [],
   "source": [
    "img = math.Image(data=FA_noisy.copy())\n",
    "\n",
    "smoothed_img = operations.smooth(img, sigma=SIGMA)\n",
    "\n",
    "structure_tensort = operations.structure_tensor(smoothed_img)\n",
    "\n",
    "decomposed_tensor = projection.calculate_decomposition(structure_tensort)\n",
    "\n",
    "heated_tensor = eed.apply_heat_conduction(decomposed_tensor, heat_conduction)"
   ]
  },
  {
   "cell_type": "code",
   "execution_count": null,
   "id": "0672b180",
   "metadata": {},
   "outputs": [],
   "source": [
    "for _ in range(MAX_ITER):\n",
    "    img = eed.step(img, heated_tensor, step_size=STEP_SIZE, sigma=SIGMA)"
   ]
  },
  {
   "cell_type": "code",
   "execution_count": null,
   "id": "26bfe7cd",
   "metadata": {},
   "outputs": [],
   "source": [
    "plot(\n",
    "    img.data,\n",
    "    title=\"Diffusion Tensor Image after Heat Conduction and EED\",\n",
    ")"
   ]
  },
  {
   "cell_type": "code",
   "execution_count": null,
   "id": "63b22bff",
   "metadata": {},
   "outputs": [],
   "source": [
    "plot(FSL.FA - img.data, title=\"Difference between Original and EED Image\")"
   ]
  }
 ],
 "metadata": {
  "kernelspec": {
   "display_name": "pyfusion-HtRIfXp7-py3.13",
   "language": "python",
   "name": "python3"
  },
  "language_info": {
   "codemirror_mode": {
    "name": "ipython",
    "version": 3
   },
   "file_extension": ".py",
   "mimetype": "text/x-python",
   "name": "python",
   "nbconvert_exporter": "python",
   "pygments_lexer": "ipython3",
   "version": "3.13.3"
  }
 },
 "nbformat": 4,
 "nbformat_minor": 5
}
