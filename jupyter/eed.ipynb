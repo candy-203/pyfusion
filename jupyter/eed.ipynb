{
 "cells": [
  {
   "cell_type": "code",
   "execution_count": null,
   "id": "69ed86fd",
   "metadata": {},
   "outputs": [],
   "source": [
    "import matplotlib.pyplot as plt\n",
    "import numpy as np\n",
    "\n",
    "from pyfusion.algs import eed\n",
    "from pyfusion.data import load\n",
    "from pyfusion.structs import math\n",
    "from pyfusion.structs.validation_utils import FloatArr\n",
    "from pyfusion.utils import projection"
   ]
  },
  {
   "cell_type": "code",
   "execution_count": null,
   "id": "3ca6c1c1",
   "metadata": {},
   "outputs": [],
   "source": [
    "SLICE = 70"
   ]
  },
  {
   "cell_type": "code",
   "execution_count": null,
   "id": "eb32be09",
   "metadata": {},
   "outputs": [],
   "source": [
    "MAX_ITER = 5000\n",
    "STEP_SIZE = 0.1"
   ]
  },
  {
   "cell_type": "code",
   "execution_count": null,
   "id": "dfbd778a",
   "metadata": {},
   "outputs": [],
   "source": [
    "FSL = load.load_fsl(\"../data/example_mri\", SLICE)"
   ]
  },
  {
   "cell_type": "code",
   "execution_count": null,
   "id": "c26c9ed6",
   "metadata": {},
   "outputs": [],
   "source": [
    "# type: ignore\n",
    "# Plotting the FA map\n",
    "plt.figure(figsize=(10, 8))\n",
    "plt.imshow(FSL.FA, cmap=\"gray\")\n",
    "plt.title(\"Fractional Anisotropy (FA) Map\")\n",
    "plt.axis(\"off\")\n",
    "plt.colorbar()\n",
    "plt.show()"
   ]
  },
  {
   "cell_type": "code",
   "execution_count": null,
   "id": "69663fec",
   "metadata": {},
   "outputs": [],
   "source": [
    "# add random noise to the FA map\n",
    "FA_noisy = FSL.FA + 0.3 * FSL.FA.std() * np.random.randn(*FSL.FA.shape)"
   ]
  },
  {
   "cell_type": "code",
   "execution_count": null,
   "id": "ea49935b",
   "metadata": {},
   "outputs": [],
   "source": [
    "# type: ignore\n",
    "# Plotting the noisy FA map\n",
    "plt.figure(figsize=(10, 8))\n",
    "plt.imshow(FA_noisy, cmap=\"gray\")\n",
    "plt.title(\"Noisy\")\n",
    "plt.axis(\"off\")\n",
    "plt.colorbar()\n",
    "plt.show()"
   ]
  },
  {
   "cell_type": "code",
   "execution_count": null,
   "id": "e1921fe7",
   "metadata": {},
   "outputs": [],
   "source": [
    "eigen_1 = math.Eigen3D(eigvec=FSL.V1, eigval=FSL.L1)\n",
    "eigen_2 = math.Eigen3D(eigvec=FSL.V2, eigval=FSL.L2)\n",
    "eigen_3 = math.Eigen3D(eigvec=FSL.V3, eigval=FSL.L3)\n",
    "\n",
    "eigen_decomp = math.EigenDecomp3D(\n",
    "    eigen_1=eigen_1,\n",
    "    eigen_2=eigen_2,\n",
    "    eigen_3=eigen_3,\n",
    ")"
   ]
  },
  {
   "cell_type": "code",
   "execution_count": null,
   "id": "f28f0d19",
   "metadata": {},
   "outputs": [],
   "source": [
    "def heat_conduction(x: FloatArr) -> FloatArr:\n",
    "    \"\"\"\n",
    "    Heat conduction function for the diffusion tensor.\n",
    "    \"\"\"\n",
    "    return 1 / (1 + x**2)"
   ]
  },
  {
   "cell_type": "code",
   "execution_count": null,
   "id": "7272372d",
   "metadata": {},
   "outputs": [],
   "source": [
    "tensor_field = projection.calculate_eigen3d(eigen_decomp)\n",
    "\n",
    "decomposed_tensor = projection.calculate_decomposition(tensor_field)\n",
    "\n",
    "heated_tensor = eed.apply_heat_conduction(decomposed_tensor, heat_conduction)"
   ]
  },
  {
   "cell_type": "code",
   "execution_count": null,
   "id": "9bf572e7",
   "metadata": {},
   "outputs": [],
   "source": [
    "img = math.Image(data=FA_noisy.copy())\n",
    "\n",
    "for _ in range(MAX_ITER):\n",
    "    img = eed.step(img, tensor_field, step_size=STEP_SIZE)"
   ]
  },
  {
   "cell_type": "code",
   "execution_count": null,
   "id": "8fadbd92",
   "metadata": {},
   "outputs": [],
   "source": [
    "# type: ignore\n",
    "plt.figure(figsize=(10, 8))\n",
    "plt.imshow(img.data, cmap=\"gray\")\n",
    "plt.title(\"Diffusion Tensor Imaging (DTI) After EED\")\n",
    "plt.axis(\"off\")\n",
    "plt.colorbar()\n",
    "plt.show()"
   ]
  },
  {
   "cell_type": "code",
   "execution_count": null,
   "id": "b7faa076",
   "metadata": {},
   "outputs": [],
   "source": [
    "# type: ignore\n",
    "difference = FSL.FA - img.data\n",
    "plt.figure(figsize=(10, 8))\n",
    "plt.imshow(difference, cmap=\"gray\")\n",
    "plt.title(\"Difference between FA and DTI Step\")\n",
    "plt.axis(\"off\")\n",
    "plt.colorbar()\n",
    "plt.show()"
   ]
  }
 ],
 "metadata": {
  "kernelspec": {
   "display_name": "pyfusion-HtRIfXp7-py3.13",
   "language": "python",
   "name": "python3"
  },
  "language_info": {
   "codemirror_mode": {
    "name": "ipython",
    "version": 3
   },
   "file_extension": ".py",
   "mimetype": "text/x-python",
   "name": "python",
   "nbconvert_exporter": "python",
   "pygments_lexer": "ipython3",
   "version": "3.13.2"
  }
 },
 "nbformat": 4,
 "nbformat_minor": 5
}
